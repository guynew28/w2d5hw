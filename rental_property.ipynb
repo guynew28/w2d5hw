{
 "cells": [
  {
   "cell_type": "markdown",
   "id": "740a3663",
   "metadata": {},
   "source": [
    "Using Visual Studio Code/Jupyter Notebook, and Object Oriented Programming (use classes) create a program that will calculate the Return on Investment(ROI) for a rental property. Attached to the assignment is a youtube video which explains how to calculate ROI and is the method you will use in your programs.\n",
    "\n",
    "This project will be completed individually, though you can feel free to share ideas with your fellow students.\n",
    "\n",
    "Once completed, commit the project to github and submit the link to this assignment."
   ]
  },
  {
   "cell_type": "code",
   "execution_count": 56,
   "id": "2a522b07",
   "metadata": {},
   "outputs": [
    {
     "name": "stdout",
     "output_type": "stream",
     "text": [
      "Would you like to calculate the ROI of your rental property?  Yes/Noyes\n",
      "How much was the downpayment?100000\n",
      "What is your closing cost?0\n",
      "How much renovation cost did you spend?0\n",
      "You spent total of 100000 to purchase this property\n",
      "How much is the monthly rental income?2150\n",
      " Please enter the amount of laundary income if any0\n",
      "Please enter any storage income you get if any, else enter 00\n",
      "Please enter other misc income you get if any, else enter 00\n",
      "Your total monthly income is 2150\n",
      "How much is the monthly mortgage fee?1300\n",
      "Please enter the yearly property tax if it's not included in your mortgage payment, else enter 00\n",
      "Please enter monthly mortgage insurance fee if any, else enter 00\n",
      "Enter monthly homeowner insurance cost0\n",
      "Please enter monthly HOA fee, type 0 if none0\n",
      "Please enter untilies fee such as Water, Gas and Electric bill if any, else enter 00\n",
      "Enter any other maintenance or repair cost, enter 0 if none0\n",
      "Enter garbage fee if any, enter 0 if none0\n",
      "Enter lawing meowing or snow removing fee if any, enter 0 if none0\n",
      "Enter property management fee if you hire someone to manage property, enter 0 if none0\n",
      "How much Captial Expenditure do you set aside for future big expenses such as roof replacement?0\n",
      "How much vacancy fee do you set aside just in case of vacancy?0\n",
      "Your total Operating Cost is 1300\n",
      "your monthly cash flow is 850\n",
      "Rate of return of this property is 10.2\n",
      " It is a great investment property\n"
     ]
    },
    {
     "ename": "KeyboardInterrupt",
     "evalue": "Interrupted by user",
     "output_type": "error",
     "traceback": [
      "\u001b[1;31m---------------------------------------------------------------------------\u001b[0m",
      "\u001b[1;31mKeyboardInterrupt\u001b[0m                         Traceback (most recent call last)",
      "\u001b[1;32m<ipython-input-56-f3a118da331c>\u001b[0m in \u001b[0;36m<module>\u001b[1;34m\u001b[0m\n\u001b[0;32m     84\u001b[0m \u001b[0mrentalproperty\u001b[0m \u001b[1;33m=\u001b[0m \u001b[0mrental_property\u001b[0m\u001b[1;33m(\u001b[0m\u001b[1;33m)\u001b[0m\u001b[1;33m\u001b[0m\u001b[1;33m\u001b[0m\u001b[0m\n\u001b[0;32m     85\u001b[0m \u001b[1;31m#rentalproperty.total_purchase()\u001b[0m\u001b[1;33m\u001b[0m\u001b[1;33m\u001b[0m\u001b[1;33m\u001b[0m\u001b[0m\n\u001b[1;32m---> 86\u001b[1;33m \u001b[0mrentalproperty\u001b[0m\u001b[1;33m.\u001b[0m\u001b[0mcalculation\u001b[0m\u001b[1;33m(\u001b[0m\u001b[1;33m)\u001b[0m\u001b[1;33m\u001b[0m\u001b[1;33m\u001b[0m\u001b[0m\n\u001b[0m\u001b[0;32m     87\u001b[0m \u001b[1;33m\u001b[0m\u001b[0m\n\u001b[0;32m     88\u001b[0m \u001b[1;33m\u001b[0m\u001b[0m\n",
      "\u001b[1;32m<ipython-input-56-f3a118da331c>\u001b[0m in \u001b[0;36mcalculation\u001b[1;34m(self)\u001b[0m\n\u001b[0;32m     70\u001b[0m     \u001b[1;32mdef\u001b[0m \u001b[0mcalculation\u001b[0m\u001b[1;33m(\u001b[0m\u001b[0mself\u001b[0m\u001b[1;33m)\u001b[0m\u001b[1;33m:\u001b[0m\u001b[1;33m\u001b[0m\u001b[1;33m\u001b[0m\u001b[0m\n\u001b[0;32m     71\u001b[0m         \u001b[1;32mwhile\u001b[0m \u001b[1;32mTrue\u001b[0m\u001b[1;33m:\u001b[0m\u001b[1;33m\u001b[0m\u001b[1;33m\u001b[0m\u001b[0m\n\u001b[1;32m---> 72\u001b[1;33m             \u001b[0manswer\u001b[0m \u001b[1;33m=\u001b[0m \u001b[0minput\u001b[0m\u001b[1;33m(\u001b[0m\u001b[1;34mf\"Would you like to calculate the ROI of your rental property?  Yes/No\"\u001b[0m\u001b[1;33m)\u001b[0m\u001b[1;33m\u001b[0m\u001b[1;33m\u001b[0m\u001b[0m\n\u001b[0m\u001b[0;32m     73\u001b[0m             \u001b[1;32mif\u001b[0m \u001b[0manswer\u001b[0m \u001b[1;33m==\u001b[0m \u001b[1;34m\"yes\"\u001b[0m\u001b[1;33m:\u001b[0m\u001b[1;33m\u001b[0m\u001b[1;33m\u001b[0m\u001b[0m\n\u001b[0;32m     74\u001b[0m                     \u001b[0mself\u001b[0m\u001b[1;33m.\u001b[0m\u001b[0mtotal_purchase\u001b[0m\u001b[1;33m(\u001b[0m\u001b[1;33m)\u001b[0m\u001b[1;33m\u001b[0m\u001b[1;33m\u001b[0m\u001b[0m\n",
      "\u001b[1;32m~\\anaconda3\\lib\\site-packages\\ipykernel\\kernelbase.py\u001b[0m in \u001b[0;36mraw_input\u001b[1;34m(self, prompt)\u001b[0m\n\u001b[0;32m    858\u001b[0m                 \u001b[1;34m\"raw_input was called, but this frontend does not support input requests.\"\u001b[0m\u001b[1;33m\u001b[0m\u001b[1;33m\u001b[0m\u001b[0m\n\u001b[0;32m    859\u001b[0m             )\n\u001b[1;32m--> 860\u001b[1;33m         return self._input_request(str(prompt),\n\u001b[0m\u001b[0;32m    861\u001b[0m             \u001b[0mself\u001b[0m\u001b[1;33m.\u001b[0m\u001b[0m_parent_ident\u001b[0m\u001b[1;33m,\u001b[0m\u001b[1;33m\u001b[0m\u001b[1;33m\u001b[0m\u001b[0m\n\u001b[0;32m    862\u001b[0m             \u001b[0mself\u001b[0m\u001b[1;33m.\u001b[0m\u001b[0m_parent_header\u001b[0m\u001b[1;33m,\u001b[0m\u001b[1;33m\u001b[0m\u001b[1;33m\u001b[0m\u001b[0m\n",
      "\u001b[1;32m~\\anaconda3\\lib\\site-packages\\ipykernel\\kernelbase.py\u001b[0m in \u001b[0;36m_input_request\u001b[1;34m(self, prompt, ident, parent, password)\u001b[0m\n\u001b[0;32m    902\u001b[0m             \u001b[1;32mexcept\u001b[0m \u001b[0mKeyboardInterrupt\u001b[0m\u001b[1;33m:\u001b[0m\u001b[1;33m\u001b[0m\u001b[1;33m\u001b[0m\u001b[0m\n\u001b[0;32m    903\u001b[0m                 \u001b[1;31m# re-raise KeyboardInterrupt, to truncate traceback\u001b[0m\u001b[1;33m\u001b[0m\u001b[1;33m\u001b[0m\u001b[1;33m\u001b[0m\u001b[0m\n\u001b[1;32m--> 904\u001b[1;33m                 \u001b[1;32mraise\u001b[0m \u001b[0mKeyboardInterrupt\u001b[0m\u001b[1;33m(\u001b[0m\u001b[1;34m\"Interrupted by user\"\u001b[0m\u001b[1;33m)\u001b[0m \u001b[1;32mfrom\u001b[0m \u001b[1;32mNone\u001b[0m\u001b[1;33m\u001b[0m\u001b[1;33m\u001b[0m\u001b[0m\n\u001b[0m\u001b[0;32m    905\u001b[0m             \u001b[1;32mexcept\u001b[0m \u001b[0mException\u001b[0m \u001b[1;32mas\u001b[0m \u001b[0me\u001b[0m\u001b[1;33m:\u001b[0m\u001b[1;33m\u001b[0m\u001b[1;33m\u001b[0m\u001b[0m\n\u001b[0;32m    906\u001b[0m                 \u001b[0mself\u001b[0m\u001b[1;33m.\u001b[0m\u001b[0mlog\u001b[0m\u001b[1;33m.\u001b[0m\u001b[0mwarning\u001b[0m\u001b[1;33m(\u001b[0m\u001b[1;34m\"Invalid Message:\"\u001b[0m\u001b[1;33m,\u001b[0m \u001b[0mexc_info\u001b[0m\u001b[1;33m=\u001b[0m\u001b[1;32mTrue\u001b[0m\u001b[1;33m)\u001b[0m\u001b[1;33m\u001b[0m\u001b[1;33m\u001b[0m\u001b[0m\n",
      "\u001b[1;31mKeyboardInterrupt\u001b[0m: Interrupted by user"
     ]
    }
   ],
   "source": [
    "class rental_property():       \n",
    "    def __init__(self):\n",
    "        self.purchase = []\n",
    "        self.rental_income = []\n",
    "        self.rental_expenses = []\n",
    "        self.rental_cash_flow = []\n",
    "        self.rental_roi= []\n",
    "        \n",
    "    def total_purchase(self):\n",
    "        try:\n",
    "#             purchase_price = int(input(f\"What is the purchase price?\"))\n",
    "            downpayment = int(input(f\"How much was the downpayment?\"))\n",
    "            closing_cost = int(input(f\"What is your closing cost?\"))\n",
    "            rehab = int(input(f\"How much renovation cost did you spend?\"))\n",
    "            self.purchase = downpayment + closing_cost + rehab\n",
    "            print(f\"You spent total of {self.purchase} to purchase this property\")\n",
    "        except:\n",
    "            print(\"Please type numbers only\")\n",
    "            \n",
    "    def monthly_income(self):\n",
    "        try:\n",
    "            rentalincome = int(input(f\"How much is the monthly rental income?\"))\n",
    "            laundaryincome = int(input(f\" Please enter the amount of laundary income if any\"))\n",
    "            storageincome = int(input(f\"Please enter any storage income you get if any, else enter 0\"))\n",
    "            miscincome = int(input(f\"Please enter other misc income you get if any, else enter 0\"))\n",
    "            self.rental_income = rentalincome + laundaryincome + storageincome + miscincome\n",
    "            print(f\"Your total monthly income is {self.rental_income}\")\n",
    "        except:\n",
    "            print(\"please type numbers only\")\n",
    "                                \n",
    "    def monthly_expenses(self):\n",
    "        try:\n",
    "            mortgage_expenses = int(input(f\"How much is the monthly mortgage fee?\"))\n",
    "            property_tax = int(input(f\"Please enter the yearly property tax if it's not included in your mortgage payment, else enter 0\"))\n",
    "            mortgage_insurance = int(input(f\"Please enter monthly mortgage insurance fee if any, else enter 0\"))\n",
    "            homeowner_ins = int(input(f\"Enter monthly homeowner insurance cost\"))\n",
    "            hoa = int(input(f\"Please enter monthly HOA fee, type 0 if none\"))\n",
    "            utilities = int(input(f\"Please enter untilies fee such as Water, Gas and Electric bill if any, else enter 0\"))\n",
    "            maintenance = int(input(f\"Enter any other maintenance or repair cost, enter 0 if none\"))\n",
    "            garbage = int(input(f\"Enter garbage fee if any, enter 0 if none\"))\n",
    "            lawn_snow= int(input(f\"Enter lawing meowing or snow removing fee if any, enter 0 if none\"))\n",
    "            prop_mgmt= int(input(f\"Enter property management fee if you hire someone to manage property, enter 0 if none\"))\n",
    "            cap_ex = int(input(f\"How much Captial Expenditure do you set aside for future big expenses such as roof replacement?\"))\n",
    "            vacancyfee = int(input(f\"How much vacancy fee do you set aside just in case of vacancy?\"))\n",
    "            self.rental_expenses = mortgage_expenses + property_tax + mortgage_insurance + homeowner_ins + hoa + utilities + maintenance + garbage + lawn_snow + prop_mgmt + cap_ex + vacancyfee\n",
    "            print(f\"Your total Operating Cost is {self.rental_expenses}\")\n",
    "        except:\n",
    "            print(\"please type numbers only\")\n",
    "              \n",
    "   \n",
    "    def cash_flow(self): \n",
    "        try:\n",
    "            self.rental_cash_flow = self.rental_income - self.rental_expenses\n",
    "            print(f\"your monthly cash flow is {self.rental_cash_flow}\")\n",
    "        except:\n",
    "            print(\"please type numbers only\")\n",
    "                                \n",
    "    def roi(self):\n",
    "        try:         \n",
    "            self.rental_roi = ((self.rental_cash_flow * 12 * 100 ) / self.purchase)\n",
    "            \n",
    "            print(f\"Rate of return of this property is {self.rental_roi}\")\n",
    "            if self.rental_roi >= 10:\n",
    "                print(f\" It is a great investment property\")\n",
    "            else:\n",
    "                print(f\" It is a bad investment property\")\n",
    "        except:\n",
    "            print(\"please type numbers only\")\n",
    "    \n",
    "    def calculation(self):\n",
    "        while True:\n",
    "            answer = input(f\"Would you like to calculate the ROI of your rental property?  Yes/No\")\n",
    "            if answer == \"yes\":\n",
    "                    self.total_purchase()\n",
    "                    self.monthly_income()\n",
    "                    self.monthly_expenses()\n",
    "                    self.cash_flow()\n",
    "                    self.roi()\n",
    "            elif answer == \"no\":\n",
    "                break\n",
    "            else: \n",
    "                print(\"Please answer in yes or no\") \n",
    "                \n",
    "rentalproperty = rental_property()\n",
    "#rentalproperty.total_purchase() \n",
    "rentalproperty.calculation()\n",
    "    \n",
    "    \n",
    "    "
   ]
  },
  {
   "cell_type": "code",
   "execution_count": null,
   "id": "d63ed62f",
   "metadata": {},
   "outputs": [],
   "source": []
  },
  {
   "cell_type": "markdown",
   "id": "813a1a24",
   "metadata": {},
   "source": [
    "##### "
   ]
  },
  {
   "cell_type": "code",
   "execution_count": null,
   "id": "1ab864ea",
   "metadata": {},
   "outputs": [],
   "source": []
  },
  {
   "cell_type": "code",
   "execution_count": null,
   "id": "22ea01a5",
   "metadata": {},
   "outputs": [],
   "source": []
  },
  {
   "cell_type": "code",
   "execution_count": null,
   "id": "00719405",
   "metadata": {},
   "outputs": [],
   "source": []
  },
  {
   "cell_type": "code",
   "execution_count": null,
   "id": "d178c314",
   "metadata": {},
   "outputs": [],
   "source": []
  },
  {
   "cell_type": "code",
   "execution_count": null,
   "id": "3bb734f0",
   "metadata": {},
   "outputs": [],
   "source": []
  },
  {
   "cell_type": "code",
   "execution_count": null,
   "id": "a9c493d0",
   "metadata": {},
   "outputs": [],
   "source": []
  },
  {
   "cell_type": "code",
   "execution_count": null,
   "id": "bdb42a1e",
   "metadata": {},
   "outputs": [],
   "source": []
  },
  {
   "cell_type": "code",
   "execution_count": null,
   "id": "b22c1d02",
   "metadata": {},
   "outputs": [],
   "source": []
  },
  {
   "cell_type": "code",
   "execution_count": null,
   "id": "b4d59378",
   "metadata": {},
   "outputs": [],
   "source": []
  },
  {
   "cell_type": "code",
   "execution_count": null,
   "id": "5edff6f5",
   "metadata": {},
   "outputs": [],
   "source": []
  },
  {
   "cell_type": "code",
   "execution_count": null,
   "id": "a4006f3c",
   "metadata": {},
   "outputs": [],
   "source": []
  },
  {
   "cell_type": "code",
   "execution_count": null,
   "id": "b2cc1109",
   "metadata": {},
   "outputs": [],
   "source": []
  },
  {
   "cell_type": "code",
   "execution_count": null,
   "id": "1d163a80",
   "metadata": {},
   "outputs": [],
   "source": []
  },
  {
   "cell_type": "code",
   "execution_count": null,
   "id": "c22985ef",
   "metadata": {},
   "outputs": [],
   "source": []
  },
  {
   "cell_type": "code",
   "execution_count": null,
   "id": "f05e0ce7",
   "metadata": {},
   "outputs": [],
   "source": []
  },
  {
   "cell_type": "code",
   "execution_count": null,
   "id": "ddd0739d",
   "metadata": {},
   "outputs": [],
   "source": []
  },
  {
   "cell_type": "code",
   "execution_count": null,
   "id": "1f029adb",
   "metadata": {},
   "outputs": [],
   "source": []
  },
  {
   "cell_type": "code",
   "execution_count": null,
   "id": "71388d09",
   "metadata": {},
   "outputs": [],
   "source": []
  }
 ],
 "metadata": {
  "kernelspec": {
   "display_name": "Python 3",
   "language": "python",
   "name": "python3"
  },
  "language_info": {
   "codemirror_mode": {
    "name": "ipython",
    "version": 3
   },
   "file_extension": ".py",
   "mimetype": "text/x-python",
   "name": "python",
   "nbconvert_exporter": "python",
   "pygments_lexer": "ipython3",
   "version": "3.8.8"
  }
 },
 "nbformat": 4,
 "nbformat_minor": 5
}
