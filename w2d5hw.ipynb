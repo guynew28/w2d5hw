{
 "cells": [
  {
   "cell_type": "markdown",
   "id": "1ef20cd7",
   "metadata": {},
   "source": [
    "Your assignment for today is to create a parking garage class to get more familiar with Object Oriented Programming(OOP). This project would usually be a pair programming project. However, for the size our class we will have groups of 2-3. This means, that one person(The driver) will code the project while the other people(The navigators)will brainstorm and guide to a working solution.\n",
    "Each of you should share/switch these roles every 30mins-1hr (-- Or you may elect to switch \"drivers\" after creating specific methods of the class).\n",
    "\n",
    "\n",
    "The Initial Driver needs to Make sure to:\n",
    "create a local folder for the project, create a github repository, commit the inital files, share the link\n",
    "\n",
    "\n",
    "Both navigators should then:\n",
    "fork the code, clone it and begin.\n",
    "\n",
    "\n",
    "The current driver MUST share their screen so the navigators can help brainstorm to a working solution.\n",
    "\n",
    "\n",
    "When code has been updated, you will need to pull down the changes.\n",
    "\n",
    "\n",
    "Here's an article on doing so -- https://stackoverflow.com/questions/3903817/pull-new-updates-from-original-github-repository-into-forked-github-repository\n",
    "\n",
    "\n",
    "Your parking gargage class should have the following methods:\n",
    "- takeTicket\n",
    "- This should decrease the amount of tickets available by 1\n",
    "- This should decrease the amount of parkingSpaces available by 1\n",
    "- payForParking\n",
    "- Display an input that waits for an amount from the user and store it in a variable\n",
    "- If the payment variable is not empty then (meaning the ticket has been paid) -> display a message to the user that their ticket has been paid and they have 15mins to leave\n",
    "- This should update the \"currentTicket\" dictionary key \"paid\" to True\n",
    "-leaveGarage\n",
    "- If the ticket has been paid, display a message of \"Thank You, have a nice day\"\n",
    "- If the ticket has not been paid, display an input prompt for payment\n",
    "- Once paid, display message \"Thank you, have a nice day!\"\n",
    "- Update parkingSpaces list to increase by 1 (meaning add to the parkingSpaces list)\n",
    "- Update tickets list to increase by 1 (meaning add to the tickets list)\n",
    "\n",
    "\n",
    "You will need a few attributes as well:\n",
    "- tickets -> list\n",
    "- parkingSpaces -> list\n",
    "- currentTicket -> dictionary\n",
    "\n",
    "\n",
    "NOTE: Use VSCode for this project starting with the following files below. Also, each person in the group should list the portion of the project they were responsible for inside of the python file and inside the README file.\n",
    "\n",
    "\n",
    "By the end of this project each group/student should be able to:\n",
    "- Explain and/or demostrate using Git and Github for collaboration\n",
    "- Explain and/or demostrate creating classes\n",
    "- Explain and/or demostrate creating class methods\n",
    "- Explain and/or demostrate class instantiation\n",
    "\n"
   ]
  },
  {
   "cell_type": "code",
   "execution_count": null,
   "id": "157df2f5",
   "metadata": {},
   "outputs": [],
   "source": []
  },
  {
   "cell_type": "code",
   "execution_count": 101,
   "id": "22a47795",
   "metadata": {},
   "outputs": [
    {
     "name": "stdout",
     "output_type": "stream",
     "text": [
      "What would you like to do? ticket/pay/leave/show/quitticket\n",
      "Which parking spot would you like to take? [1, 2, 3, 4, 5]2\n",
      "What would you like to do? ticket/pay/leave/show/quitpay\n",
      "What parking spot would you like to pay [2]2\n",
      "You ticket has been paid and you have 15mins to leave\n",
      "What would you like to do? ticket/pay/leave/show/quitleave\n",
      "which spot you are leave?2\n",
      "Thank you, have a nice day!\n",
      "What would you like to do? ticket/pay/leave/show/quitshow\n",
      "ticket used []\n",
      "avaiable space [1, 3, 4, 5, 2]\n",
      "status of payment {}\n",
      "What would you like to do? ticket/pay/leave/show/quitquit\n"
     ]
    }
   ],
   "source": [
    "class parkingGarage():\n",
    "    def __init__(self):\n",
    "        self.tickets = [] #ticket being used\n",
    "        self.parkingSpaces = [1,2,3,4,5]\n",
    "        self.currentTicket = {} #status of payment\n",
    "        \n",
    "    def takeTicket(self):\n",
    "        try:\n",
    "            spot = int(input(f\"Which parking spot would you like to take? {self.parkingSpaces}\"))\n",
    "            self.tickets.append(spot)\n",
    "            self.parkingSpaces.remove(spot)\n",
    "            self.currentTicket[spot]=False\n",
    "        except:\n",
    "            print(\"invilad input! Please enter a number\")\n",
    "           \n",
    "\n",
    "    def payForParking(self):\n",
    "        try:\n",
    "            spot = int(input(f\"What parking spot would you like to pay {self.tickets}\"))\n",
    "            \n",
    "            if self.currentTicket[spot] ==True:\n",
    "                print(\"You ticket has been paid\")\n",
    "            if spot not in self.tickets:\n",
    "                print (\"invalid entry. This ticket does not exit\")\n",
    "            else:\n",
    "                self.currentTicket[spot]=True\n",
    "                print(\"You ticket has been paid and you have 15mins to leave\")\n",
    "        except:\n",
    "            print(\"invilad entry\")\n",
    "        \n",
    "        \n",
    "    def leaveParking(self):\n",
    "        spot = int(input(f\"which spot you are leave?\"))\n",
    "        if self.currentTicket[spot] == True:\n",
    "            print(\"Thank you, have a nice day!\")\n",
    "        if self.currentTicket[spot]==False:\n",
    "            print(\"Please go pay for parking\")\n",
    "        else:\n",
    "            self.tickets.remove(spot)\n",
    "            self.parkingSpaces.append(spot)\n",
    "            del self.currentTicket[spot]\n",
    "     \n",
    "    def slowavailable(self):\n",
    "        print(\"ticket used\", self.tickets)\n",
    "        print(\"avaiable space\", self.parkingSpaces)\n",
    "        print(\"status of payment\", self.currentTicket)\n",
    "        \n",
    "    def runningprocess(self):\n",
    "        while True:\n",
    "            answer = input(f\"What would you like to do? ticket/pay/leave/show/quit\")\n",
    "            if answer == \"ticket\":\n",
    "                self.takeTicket()\n",
    "            elif answer == \"pay\":\n",
    "                self.payForParking()\n",
    "            elif answer == \"leave\":\n",
    "                self.leaveParking()   \n",
    "            elif answer == \"show\":\n",
    "                self.slowavailable()\n",
    "            elif answer == \"quit\":\n",
    "                break\n",
    "            else:\n",
    "                print(\"invaid entry\")\n",
    "\n",
    "garage=parkingGarage()\n",
    "garage.runningprocess()\n",
    "    \n",
    "    \n",
    "        "
   ]
  },
  {
   "cell_type": "code",
   "execution_count": null,
   "id": "205fcb69",
   "metadata": {},
   "outputs": [],
   "source": []
  },
  {
   "cell_type": "markdown",
   "id": "44abf058",
   "metadata": {},
   "source": [
    "### Exercise 2 - Write a Python class which has two methods get_String and print_String. get_String accept a string from the user and print_String print the string in upper case\n"
   ]
  },
  {
   "cell_type": "code",
   "execution_count": 24,
   "id": "ef1b62f4",
   "metadata": {},
   "outputs": [
    {
     "name": "stdout",
     "output_type": "stream",
     "text": [
      "What would you like to type?hi\n",
      "HI\n"
     ]
    }
   ],
   "source": [
    "class getprintstring():\n",
    "    def __init__(self):\n",
    "        self.getstring=\"\"\n",
    "        \n",
    "        \n",
    "    def get_string(self):\n",
    "        self.getstring=input(\"What would you like to type?\")\n",
    "    \n",
    "        \n",
    "    def print_string(self):\n",
    "        print(self.getstring.upper())\n",
    "        \n",
    "getstring = getprintstring()\n",
    "getstring.get_string()\n",
    "getstring.print_string()"
   ]
  },
  {
   "cell_type": "code",
   "execution_count": 22,
   "id": "49009a87",
   "metadata": {},
   "outputs": [
    {
     "name": "stdout",
     "output_type": "stream",
     "text": [
      "hi\n",
      "HI\n"
     ]
    }
   ],
   "source": [
    "    "
   ]
  },
  {
   "cell_type": "code",
   "execution_count": null,
   "id": "fc711375",
   "metadata": {},
   "outputs": [],
   "source": []
  }
 ],
 "metadata": {
  "kernelspec": {
   "display_name": "Python 3",
   "language": "python",
   "name": "python3"
  },
  "language_info": {
   "codemirror_mode": {
    "name": "ipython",
    "version": 3
   },
   "file_extension": ".py",
   "mimetype": "text/x-python",
   "name": "python",
   "nbconvert_exporter": "python",
   "pygments_lexer": "ipython3",
   "version": "3.8.8"
  }
 },
 "nbformat": 4,
 "nbformat_minor": 5
}
